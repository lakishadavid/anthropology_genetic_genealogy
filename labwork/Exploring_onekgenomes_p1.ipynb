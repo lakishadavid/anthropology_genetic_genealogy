{
 "cells": [
  {
   "cell_type": "code",
   "execution_count": null,
   "metadata": {},
   "outputs": [],
   "source": [
    "import os # Imports Python's built-in os library, which allows us to interact with the operating system."
   ]
  },
  {
   "cell_type": "code",
   "execution_count": null,
   "metadata": {},
   "outputs": [],
   "source": [
    "primary_directory = os.getcwd() # get the current working directory and stores it in the variable primary_directory\n",
    "primary_directory # Displays the value of primary_directory"
   ]
  },
  {
   "cell_type": "code",
   "execution_count": null,
   "metadata": {},
   "outputs": [],
   "source": [
    "# !pip install virtualenv !virtualenv myenv\n",
    "!python -m venv /path/to/new/virtual/environment\n",
    "# Select Kernel"
   ]
  },
  {
   "cell_type": "code",
   "execution_count": null,
   "metadata": {},
   "outputs": [],
   "source": [
    "# !source /path/to/new/virtual/environment/bin/activate\n",
    "# deactivate"
   ]
  },
  {
   "cell_type": "code",
   "execution_count": null,
   "metadata": {},
   "outputs": [],
   "source": [
    "# If you want to use a different path as your primary directory\n",
    "primary_directory = \"/home/lakishadavid\""
   ]
  },
  {
   "cell_type": "markdown",
   "metadata": {},
   "source": [
    "The followng code checks if the directories already exist before attempting to create them."
   ]
  },
  {
   "cell_type": "code",
   "execution_count": null,
   "metadata": {},
   "outputs": [],
   "source": [
    "use_directory = os.path.join(primary_directory, \"use\")\n",
    "results_directory = os.path.join(primary_directory, \"results\")\n",
    "references_directory = os.path.join(primary_directory, \"references\")\n",
    "data_directory = os.path.join(primary_directory, \"data\")"
   ]
  },
  {
   "cell_type": "code",
   "execution_count": null,
   "metadata": {},
   "outputs": [],
   "source": [
    "# Create the directories\n",
    "for directory in [use_directory, results_directory, references_directory, data_directory]:\n",
    "    os.makedirs(directory, exist_ok=True)\n"
   ]
  },
  {
   "cell_type": "markdown",
   "metadata": {},
   "source": [
    "## Introduction to the IGSR 30x GRCh38 Data Collection\n",
    "The International Genome Sample Resource (IGSR) provides a data collection for the 30x GRCh38 human genome assembly. This resource is invaluable for researchers and scientists who are working on genomics, as it offers high-quality, publicly available data sets. The 30x coverage ensures a high level of accuracy and reliability for genomic studies."
   ]
  },
  {
   "cell_type": "code",
   "execution_count": null,
   "metadata": {},
   "outputs": [],
   "source": [
    "# Your reference directory\n",
    "print(references_directory)"
   ]
  },
  {
   "cell_type": "markdown",
   "metadata": {},
   "source": [
    "Get the files"
   ]
  },
  {
   "cell_type": "code",
   "execution_count": null,
   "metadata": {},
   "outputs": [],
   "source": [
    "# !git clone https://github.com/lakishadavid/anthropology_genetic_genealogy.git"
   ]
  },
  {
   "cell_type": "markdown",
   "metadata": {},
   "source": [
    "## File Verification\n",
    "\n",
    "Before proceeding with the data subsetting, let's ensure that the sample and population files you intend to use are available in the `references_directory`.\n",
    "\n",
    "If you are using VSCode to run this Jupyter Notebook, when you run the next cell, a popup box should appear asking you to enter the filenames for the sample and population files. Please enter the filenames in these boxes to proceed.\n",
    "\n"
   ]
  },
  {
   "cell_type": "code",
   "execution_count": null,
   "metadata": {},
   "outputs": [],
   "source": [
    "import os\n",
    "\n",
    "sample_file_name = os.path.join(references_directory, \"samples_igsr_1000genomes_grch38.tsv\")\n",
    "\n",
    "# Check if the file exists\n",
    "if os.path.exists(sample_file_name):\n",
    "    print(f\"Using sample file: {sample_file_name}\")\n",
    "else:\n",
    "    print(f\"File does not exist: {sample_file_name}\")\n",
    "\n",
    "\n",
    "population_file_name = os.path.join(references_directory, \"populations_igsr_1000genomes_grch38.tsv\")\n",
    "\n",
    "# Check if the file exists\n",
    "if os.path.exists(population_file_name):\n",
    "    print(f\"Using sample file: {population_file_name}\")\n",
    "else:\n",
    "    print(f\"File does not exist: {population_file_name}\")\n"
   ]
  },
  {
   "cell_type": "markdown",
   "metadata": {},
   "source": [
    "## Exploring the Sample and Population Files\n",
    "\n",
    "Before diving into the analysis, it's a good idea to explore the sample and population files to get a sense of what the data looks like. We'll use Pandas to open these files and display the first few rows.\n"
   ]
  },
  {
   "cell_type": "code",
   "execution_count": null,
   "metadata": {},
   "outputs": [],
   "source": [
    "# Import the Pandas library\n",
    "import pandas as pd\n",
    "\n",
    "# Load the sample and population files into Pandas DataFrames\n",
    "try:\n",
    "    sample_df = pd.read_csv(sample_file_name, sep='\\t')\n",
    "    population_df = pd.read_csv(population_file_name, sep='\\t')\n",
    "    \n",
    "    # Display the first few rows of each DataFrame\n",
    "    print(\"First few rows of the sample file:\")\n",
    "    display(sample_df.head())\n",
    "    \n",
    "    print(\"First few rows of the population file:\")\n",
    "    display(population_df.head())\n",
    "    \n",
    "except FileNotFoundError as e:\n",
    "    print(f\"File not found: {e}\")\n"
   ]
  },
  {
   "cell_type": "markdown",
   "metadata": {},
   "source": [
    "## Data Files Overview\n",
    "\n",
    "Before diving into the analysis, it's crucial to understand the data files we'll be working with.\n",
    "\n",
    "---\n",
    "\n",
    "### Populations File\n",
    "\n",
    "#### Description\n",
    "The populations file contains information about the various populations that are part of the genomic study. This file is essential for understanding the diversity of the samples and for performing population-specific analyses.\n",
    "\n",
    "#### Typical Columns\n",
    "- **Population ID**: Unique identifier for each population.\n",
    "- **Population Name**: Name of the population.\n",
    "- **Region**: Geographical region where the population is located.\n",
    "- **Number of Samples**: Number of samples collected from this population.\n",
    "- **Other Metadata**: Additional information such as ethnicity, age range, etc.\n",
    "\n",
    "#### Use Cases\n",
    "- Filtering genomic data based on specific populations.\n",
    "- Performing population-specific genetic variation analyses.\n",
    "- Understanding the distribution of samples across different populations.\n",
    "\n",
    "---\n",
    "\n",
    "### Sample File\n",
    "\n",
    "#### Description\n",
    "The sample file contains detailed information about each individual sample that is part of the study. This file is essential for tracking the source of each genomic sequence and for associating it with specific traits or conditions.\n",
    "\n",
    "#### Typical Columns\n",
    "- **Sample ID**: Unique identifier for each sample.\n",
    "- **Population ID**: The population to which the sample belongs.\n",
    "- **Gender**: Gender of the individual from whom the sample was taken.\n",
    "- **Age**: Age of the individual.\n",
    "- **Health Status**: Information about the health condition of the individual, if applicable.\n",
    "- **Other Metadata**: Additional information such as the date of sample collection, sequencing technology used, etc.\n",
    "\n",
    "#### Use Cases\n",
    "- Filtering genomic data based on specific samples or traits.\n",
    "- Performing individual-level analyses.\n",
    "- Associating genomic variations with specific traits or conditions.\n"
   ]
  },
  {
   "cell_type": "markdown",
   "metadata": {},
   "source": [
    "# Exploratory Data Analysis with Pandas\n",
    "\n",
    "## Introduction\n",
    "Before diving into more complex analyses, it's essential to understand the structure and characteristics of your data. Pandas is a powerful Python library that provides fast, flexible, and expressive data structures designed to make working with \"relational\" or \"labeled\" data both easy and intuitive. Let's explore some basic Pandas functionalities to better understand our sample and population files.\n",
    "\n",
    "Remember that we loaded the sample and population files earlier and created Pandas Dataframes called sample_df and population_df.\n",
    "\n",
    "### Basic Information\n",
    "You can get a quick overview of the DataFrame using .info()."
   ]
  },
  {
   "cell_type": "code",
   "execution_count": null,
   "metadata": {},
   "outputs": [],
   "source": [
    "# Get basic information about the sample DataFrame\n",
    "sample_df.info()"
   ]
  },
  {
   "cell_type": "markdown",
   "metadata": {},
   "source": [
    "You can preview the dataframe by viewing the first rows using .head() or the last rows using .tail, default 5."
   ]
  },
  {
   "cell_type": "code",
   "execution_count": null,
   "metadata": {},
   "outputs": [],
   "source": [
    "sample_df.head()"
   ]
  },
  {
   "cell_type": "code",
   "execution_count": null,
   "metadata": {},
   "outputs": [],
   "source": [
    "sample_df.head(10)"
   ]
  },
  {
   "cell_type": "code",
   "execution_count": null,
   "metadata": {},
   "outputs": [],
   "source": [
    "sample_df.tail()"
   ]
  },
  {
   "cell_type": "code",
   "execution_count": null,
   "metadata": {},
   "outputs": [],
   "source": [
    "sample_df.tail(15)"
   ]
  },
  {
   "cell_type": "markdown",
   "metadata": {},
   "source": [
    "### Summary Statistics\n",
    "The .describe() method provides summary statistics of the DataFrame, useful for getting a sense of the distribution of each attribute."
   ]
  },
  {
   "cell_type": "code",
   "execution_count": null,
   "metadata": {},
   "outputs": [],
   "source": [
    "# Get summary statistics for the sample DataFrame\n",
    "sample_df.describe()"
   ]
  },
  {
   "cell_type": "markdown",
   "metadata": {},
   "source": [
    "### Count Values\n",
    "To count the number of occurrences of each unique value in a column, you can use .value_counts()."
   ]
  },
  {
   "cell_type": "code",
   "execution_count": null,
   "metadata": {},
   "outputs": [],
   "source": [
    "# Count the number of individuals per population\n",
    "sample_df['Population name'].value_counts()"
   ]
  },
  {
   "cell_type": "markdown",
   "metadata": {},
   "source": [
    "### Filtering Data\n",
    "You can filter rows based on certain conditions. For example, let's filter the sample DataFrame to only include individuals from a specific population."
   ]
  },
  {
   "cell_type": "code",
   "execution_count": null,
   "metadata": {},
   "outputs": [],
   "source": [
    "# Filter to include only individuals from the 'YRI' population\n",
    "yri_population = sample_df[sample_df['Population code'] == 'YRI']\n",
    "yri_population.head()"
   ]
  },
  {
   "cell_type": "code",
   "execution_count": null,
   "metadata": {},
   "outputs": [],
   "source": [
    "type(yri_population)"
   ]
  },
  {
   "cell_type": "code",
   "execution_count": null,
   "metadata": {},
   "outputs": [],
   "source": [
    "yri_population.info()"
   ]
  },
  {
   "cell_type": "code",
   "execution_count": null,
   "metadata": {},
   "outputs": [],
   "source": [
    "yri_population.describe()"
   ]
  },
  {
   "cell_type": "code",
   "execution_count": null,
   "metadata": {},
   "outputs": [],
   "source": [
    "# Search for individuals with specific attributes\n",
    "specific_entries = sample_df[(sample_df['Population code'] == 'YRI') & (sample_df['Sex'] == 'female')]\n",
    "specific_entries.info()"
   ]
  },
  {
   "cell_type": "code",
   "execution_count": null,
   "metadata": {},
   "outputs": [],
   "source": [
    "specific_entries.head()"
   ]
  },
  {
   "cell_type": "code",
   "execution_count": null,
   "metadata": {},
   "outputs": [],
   "source": [
    "specific_entries.describe()"
   ]
  },
  {
   "cell_type": "markdown",
   "metadata": {},
   "source": [
    "### Multiple Conditions\n",
    "You can include multiple conditions in your query. For example, let's find all females in either the 'YRI' or 'CEU' populations."
   ]
  },
  {
   "cell_type": "code",
   "execution_count": null,
   "metadata": {},
   "outputs": [],
   "source": [
    "# Search for females in either 'YRI' or 'CEU' populations\n",
    "multiple_conditions = sample_df[(sample_df['Population code'].isin(['YRI', 'CEU'])) & (sample_df['Sex'] == 'female')]\n",
    "multiple_conditions.describe()"
   ]
  },
  {
   "cell_type": "code",
   "execution_count": null,
   "metadata": {},
   "outputs": [],
   "source": [
    "target_population = 'YRI'\n",
    "target_sex = 'female'\n",
    "\n",
    "# Search using variables\n",
    "variable_filter = sample_df[(sample_df['Population code'] == target_population) & (sample_df['Sex'] == target_sex)]\n",
    "variable_filter.describe()"
   ]
  },
  {
   "cell_type": "markdown",
   "metadata": {},
   "source": [
    "### Searching for Entries in a List\n",
    "If you have a list of values to search for, you can use the isin() method within .query()."
   ]
  },
  {
   "cell_type": "code",
   "execution_count": null,
   "metadata": {},
   "outputs": [],
   "source": [
    "# List of target populations\n",
    "target_populations = ['YRI', 'CEU']\n",
    "\n",
    "# Search for individuals in target populations\n",
    "list_filter = sample_df[sample_df['Population code'].isin(target_populations)]\n",
    "list_filter.describe()"
   ]
  },
  {
   "cell_type": "markdown",
   "metadata": {},
   "source": [
    "### Using String Methods\n",
    "You can also use string methods to search for specific patterns in string columns."
   ]
  },
  {
   "cell_type": "code",
   "execution_count": null,
   "metadata": {},
   "outputs": [],
   "source": [
    "# Search for individuals whose sample IDs start with 'NA'\n",
    "string_filter = sample_df[sample_df['Sample name'].str.startswith('NA')]\n",
    "print(len(string_filter))\n",
    "string_filter.head()"
   ]
  },
  {
   "cell_type": "markdown",
   "metadata": {},
   "source": [
    "## Exploratory Data Analysis\n",
    "\n",
    "Before we move on, let's specifically look at:\n",
    "\n",
    "1. The total number of samples in the dataset.\n",
    "2. The distribution of samples by sex.\n",
    "3. The distribution of samples by population.\n",
    "4. The distribution of samples by superpopulation."
   ]
  },
  {
   "cell_type": "code",
   "execution_count": null,
   "metadata": {},
   "outputs": [],
   "source": [
    "# Check if the sample DataFrame is loaded\n",
    "if 'sample_df' in locals():\n",
    "\n",
    "    # Total number of samples\n",
    "    total_samples = len(sample_df)\n",
    "    print(f\"Total number of samples: {total_samples}\")\n",
    "\n",
    "    # Distribution by Sex\n",
    "    print(\"\\nDistribution of samples by Sex:\")\n",
    "    display(sample_df['Sex'].value_counts())\n",
    "\n",
    "    # Distribution by Superpopulation\n",
    "    print(\"\\nDistribution of samples by Superpopulation:\")\n",
    "    display(sample_df['Superpopulation name'].value_counts())\n",
    "\n",
    "else:\n",
    "    print(\"The sample DataFrame is not loaded. Please make sure to load the sample file.\")"
   ]
  }
 ],
 "metadata": {
  "kernelspec": {
   "display_name": "Python 3",
   "language": "python",
   "name": "python3"
  },
  "language_info": {
   "codemirror_mode": {
    "name": "ipython",
    "version": 3
   },
   "file_extension": ".py",
   "mimetype": "text/x-python",
   "name": "python",
   "nbconvert_exporter": "python",
   "pygments_lexer": "ipython3",
   "version": "3.10.12"
  },
  "orig_nbformat": 4
 },
 "nbformat": 4,
 "nbformat_minor": 2
}
